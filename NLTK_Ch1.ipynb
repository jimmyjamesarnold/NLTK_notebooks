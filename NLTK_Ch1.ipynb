{
 "cells": [
  {
   "cell_type": "markdown",
   "metadata": {},
   "source": [
    "# Chapter 1\n",
    "Notebook by Jim Arnold"
   ]
  },
  {
   "cell_type": "markdown",
   "metadata": {},
   "source": [
    "## Introduction\n",
    "Following examples from https://www.nltk.org/book/ch01.html"
   ]
  },
  {
   "cell_type": "markdown",
   "metadata": {},
   "source": [
    "## Getting Started with NLTK"
   ]
  },
  {
   "cell_type": "code",
   "execution_count": 6,
   "metadata": {},
   "outputs": [
    {
     "name": "stdout",
     "output_type": "stream",
     "text": [
      "showing info https://raw.githubusercontent.com/nltk/nltk_data/gh-pages/index.xml\n"
     ]
    },
    {
     "data": {
      "text/plain": [
       "True"
      ]
     },
     "execution_count": 6,
     "metadata": {},
     "output_type": "execute_result"
    }
   ],
   "source": [
    "import nltk\n",
    "nltk.download()"
   ]
  },
  {
   "cell_type": "markdown",
   "metadata": {},
   "source": [
    "Download \"all\" ... \n",
    "\n",
    "Load book data:"
   ]
  },
  {
   "cell_type": "code",
   "execution_count": 5,
   "metadata": {},
   "outputs": [
    {
     "name": "stdout",
     "output_type": "stream",
     "text": [
      "*** Introductory Examples for the NLTK Book ***\n",
      "Loading text1, ..., text9 and sent1, ..., sent9\n",
      "Type the name of the text or sentence to view it.\n",
      "Type: 'texts()' or 'sents()' to list the materials.\n",
      "text1: Moby Dick by Herman Melville 1851\n",
      "text2: Sense and Sensibility by Jane Austen 1811\n",
      "text3: The Book of Genesis\n",
      "text4: Inaugural Address Corpus\n",
      "text5: Chat Corpus\n",
      "text6: Monty Python and the Holy Grail\n",
      "text7: Wall Street Journal\n",
      "text8: Personals Corpus\n",
      "text9: The Man Who Was Thursday by G . K . Chesterton 1908\n"
     ]
    }
   ],
   "source": [
    "from nltk.book import *"
   ]
  },
  {
   "cell_type": "code",
   "execution_count": 7,
   "metadata": {},
   "outputs": [
    {
     "data": {
      "text/plain": [
       "<Text: Moby Dick by Herman Melville 1851>"
      ]
     },
     "execution_count": 7,
     "metadata": {},
     "output_type": "execute_result"
    }
   ],
   "source": [
    "text1"
   ]
  },
  {
   "cell_type": "markdown",
   "metadata": {},
   "source": [
    "### Searching Text\n",
    "There are many ways to examine the context of a text apart from simply reading it. A concordance view shows us every occurrence of a given word, together with some context. Here we look up the word monstrous in Moby Dick by entering text1 followed by a period, then the term concordance, and then placing  \"monstrous\" in parentheses:"
   ]
  },
  {
   "cell_type": "code",
   "execution_count": 8,
   "metadata": {},
   "outputs": [
    {
     "name": "stdout",
     "output_type": "stream",
     "text": [
      "Displaying 11 of 11 matches:\n",
      "ong the former , one was of a most monstrous size . ... This came towards us , \n",
      "ON OF THE PSALMS . \" Touching that monstrous bulk of the whale or ork we have r\n",
      "ll over with a heathenish array of monstrous clubs and spears . Some were thick\n",
      "d as you gazed , and wondered what monstrous cannibal and savage could ever hav\n",
      "that has survived the flood ; most monstrous and most mountainous ! That Himmal\n",
      "they might scout at Moby Dick as a monstrous fable , or still worse and more de\n",
      "th of Radney .'\" CHAPTER 55 Of the Monstrous Pictures of Whales . I shall ere l\n",
      "ing Scenes . In connexion with the monstrous pictures of whales , I am strongly\n",
      "ere to enter upon those still more monstrous stories of them which are to be fo\n",
      "ght have been rummaged out of this monstrous cabinet there is no telling . But \n",
      "of Whale - Bones ; for Whales of a monstrous size are oftentimes cast up dead u\n"
     ]
    }
   ],
   "source": [
    "text1.concordance('monstrous')"
   ]
  },
  {
   "cell_type": "code",
   "execution_count": 9,
   "metadata": {},
   "outputs": [
    {
     "name": "stdout",
     "output_type": "stream",
     "text": [
      "Displaying 25 of 79 matches:\n",
      ", however , and , as a mark of his affection for the three girls , he left them\n",
      "t . It was very well known that no affection was ever supposed to exist between\n",
      "deration of politeness or maternal affection on the side of the former , the tw\n",
      "d the suspicion -- the hope of his affection for me may warrant , without impru\n",
      "hich forbade the indulgence of his affection . She knew that his mother neither\n",
      "rd she gave one with still greater affection . Though her late conversation wit\n",
      " can never hope to feel or inspire affection again , and if her home be uncomfo\n",
      "m of the sense , elegance , mutual affection , and domestic comfort of the fami\n",
      ", and which recommended him to her affection beyond every thing else . His soci\n",
      "ween the parties might forward the affection of Mr . Willoughby , an equally st\n",
      " the most pointed assurance of her affection . Elinor could not be surprised at\n",
      "he natural consequence of a strong affection in a young and ardent mind . This \n",
      " opinion . But by an appeal to her affection for her mother , by representing t\n",
      " every alteration of a place which affection had established as perfect with hi\n",
      "e will always have one claim of my affection , which no other can possibly shar\n",
      "f the evening declared at once his affection and happiness . \" Shall we see you\n",
      "ause he took leave of us with less affection than his usual behaviour has shewn\n",
      "ness .\" \" I want no proof of their affection ,\" said Elinor ; \" but of their en\n",
      "onths , without telling her of his affection ;-- that they should part without \n",
      "ould be the natural result of your affection for her . She used to be all unres\n",
      "distinguished Elinor by no mark of affection . Marianne saw and listened with i\n",
      "th no inclination for expense , no affection for strangers , no profession , an\n",
      "till distinguished her by the same affection which once she had felt no doubt o\n",
      "al of her confidence in Edward ' s affection , to the remembrance of every mark\n",
      " was made ? Had he never owned his affection to yourself ?\" \" Oh , no ; but if \n"
     ]
    }
   ],
   "source": [
    "text2.concordance('affection')"
   ]
  },
  {
   "cell_type": "markdown",
   "metadata": {},
   "source": [
    "A concordance permits us to see words in context. For example, we saw that monstrous occurred in contexts such as the *___ pictures* and *a ___ size*. \n",
    "\n",
    "What other words appear in a similar range of contexts? We can find out by appending the term similar to the name of the text in question, then inserting the relevant word in parentheses:"
   ]
  },
  {
   "cell_type": "code",
   "execution_count": 10,
   "metadata": {},
   "outputs": [
    {
     "name": "stdout",
     "output_type": "stream",
     "text": [
      "true contemptible christian abundant few part mean careful puzzled\n",
      "mystifying passing curious loving wise doleful gamesome singular\n",
      "delightfully perilous fearless\n"
     ]
    }
   ],
   "source": [
    "# in Moby Dick\n",
    "text1.similar(\"monstrous\")"
   ]
  },
  {
   "cell_type": "code",
   "execution_count": 11,
   "metadata": {},
   "outputs": [
    {
     "name": "stdout",
     "output_type": "stream",
     "text": [
      "very so exceedingly heartily a as good great extremely remarkably\n",
      "sweet vast amazingly\n"
     ]
    }
   ],
   "source": [
    "# in Sense and Sensibility\n",
    "text2.similar(\"monstrous\")"
   ]
  },
  {
   "cell_type": "markdown",
   "metadata": {},
   "source": [
    "Observe that we get different results for different texts. Austen uses this word quite differently from Melville; for her, monstrous has positive connotations, and sometimes functions as an intensifier like the word very.\n",
    "\n",
    "The term common_contexts allows us to examine just the contexts that are shared by two or more words, such as monstrous and very. We have to enclose these words by square brackets as well as parentheses, and separate them with a comma:"
   ]
  },
  {
   "cell_type": "code",
   "execution_count": 12,
   "metadata": {},
   "outputs": [
    {
     "name": "stdout",
     "output_type": "stream",
     "text": [
      "a_pretty am_glad a_lucky is_pretty be_glad\n"
     ]
    }
   ],
   "source": [
    "text2.common_contexts([\"monstrous\", \"very\"])"
   ]
  },
  {
   "cell_type": "code",
   "execution_count": 25,
   "metadata": {},
   "outputs": [
    {
     "name": "stdout",
     "output_type": "stream",
     "text": [
      "Genesis...\n",
      "he joseph pharaoh jacob they abraham she isaac sarah them him it i me\n",
      "abram laban thee cain esau judah\n",
      "None\n",
      "\n",
      "Monty Python...\n",
      "the coconut bristol\n",
      "None\n",
      "\n"
     ]
    }
   ],
   "source": [
    "# let's compare usage of God in the book of genesis text3 and monty python text6...\n",
    "print('Genesis...')\n",
    "print(text3.similar('God'))\n",
    "print(\"\")\n",
    "print('Monty Python...')\n",
    "print(text6.similar('God'))\n",
    "print(\"\")"
   ]
  },
  {
   "cell_type": "code",
   "execution_count": 26,
   "metadata": {},
   "outputs": [
    {
     "name": "stdout",
     "output_type": "stream",
     "text": [
      "of_and\n"
     ]
    }
   ],
   "source": [
    "# let's see what God and coconut hvae in common\n",
    "text6.common_contexts([\"God\", \"coconut\"])"
   ]
  },
  {
   "cell_type": "code",
   "execution_count": 46,
   "metadata": {},
   "outputs": [
    {
     "data": {
      "image/png": "[encoded data removed]",
      "text/plain": [
       "<Figure size 1080x360 with 1 Axes>"
      ]
     },
     "metadata": {
      "needs_background": "light"
     },
     "output_type": "display_data"
    }
   ],
   "source": [
    "# plot relative location of a word in a text\n",
    "plt.figure(figsize=(15,5))\n",
    "text4.dispersion_plot([\"citizens\", \"democracy\", \"freedom\", \"duties\", \"America\"])"
   ]
  },
  {
   "cell_type": "code",
   "execution_count": 47,
   "metadata": {},
   "outputs": [
    {
     "data": {
      "image/png": "[encoded data removed]",
      "text/plain": [
       "<Figure size 1080x720 with 1 Axes>"
      ]
     },
     "metadata": {
      "needs_background": "light"
     },
     "output_type": "display_data"
    }
   ],
   "source": [
    "# plot relative location of a word in a text\n",
    "plt.figure(figsize=(15,10))\n",
    "text4.dispersion_plot([\"terror\", \"Europe\", \"threat\",\n",
    "                       \"business\", \"interests\", \"constitution\", \n",
    "                       \"war\", \"peace\",\n",
    "                       \"joy\", \"birth\", \"death\", \n",
    "                       \"hope\", \"fear\"])"
   ]
  },
  {
   "cell_type": "markdown",
   "metadata": {},
   "source": [
    "### Counting Vocabulary\n",
    "\n",
    "The most obvious fact about texts that emerges from the preceding examples is that they differ in the vocabulary they use. In this section we will see how to use the computer to count the words in a text in a variety of useful ways. As before, you will jump right in and experiment with the Python interpreter, even though you may not have studied Python systematically yet. Test your understanding by modifying the examples, and trying the exercises at the end of the chapter.\n",
    "\n",
    "Let's begin by finding out the length of a text from start to finish, in terms of the words and punctuation symbols that appear. We use the term len to get the length of something, which we'll apply here to the book of Genesis:"
   ]
  },
  {
   "cell_type": "code",
   "execution_count": 50,
   "metadata": {},
   "outputs": [
    {
     "data": {
      "text/plain": [
       "44764"
      ]
     },
     "execution_count": 50,
     "metadata": {},
     "output_type": "execute_result"
    }
   ],
   "source": [
    "len(text3)"
   ]
  },
  {
   "cell_type": "markdown",
   "metadata": {},
   "source": [
    "So Genesis has 44,764 words and punctuation symbols, or \"tokens.\" A token is the technical name for a sequence of characters — such as hairy, his, or :) — that we want to treat as a group. When we count the number of tokens in a text, say, the phrase to be or not to be, we are counting occurrences of these sequences. Thus, in our example phrase there are two occurrences of to, two of be, and one each of or and not. But there are only four distinct vocabulary items in this phrase. How many distinct words does the book of Genesis contain? \n",
    "\n",
    "To work this out in Python, we have to pose the question slightly differently. The vocabulary of a text is just the set of tokens that it uses, since in a set, all duplicates are collapsed together. \n",
    "\n",
    "In Python we can obtain the vocabulary items of text3 with the command: set(text3). When you do this, many screens of words will fly past. Now try the following:"
   ]
  },
  {
   "cell_type": "code",
   "execution_count": 52,
   "metadata": {},
   "outputs": [
    {
     "data": {
      "text/plain": [
       "2789"
      ]
     },
     "execution_count": 52,
     "metadata": {},
     "output_type": "execute_result"
    }
   ],
   "source": [
    "st3 = sorted(set(text3))\n",
    "len(st3)"
   ]
  },
  {
   "cell_type": "markdown",
   "metadata": {},
   "source": [
    "By wrapping sorted() around the Python expression set(text3) [1], we obtain a sorted list of vocabulary items, beginning with various punctuation symbols and continuing with words starting with A. All capitalized words precede lowercase words. We discover the size of the vocabulary indirectly, by asking for the number of items in the set, and again we can use len to obtain this number [2]. Although it has 44,764 tokens, this book has only 2,789 distinct words, or \"word types.\" A word type is the form or spelling of the word independently of its specific occurrences in a text — that is, the word considered as a unique item of vocabulary. Our count of 2,789 items will include punctuation symbols, so we will generally call these unique items types instead of word types.\n",
    "\n",
    "Now, let's calculate a measure of the lexical richness of the text. The next example shows us that the number of distinct words is just 6% of the total number of words, or equivalently that each word is used 16 times on average (remember if you're using Python 2, to start with from __future__ import division)."
   ]
  },
  {
   "cell_type": "code",
   "execution_count": 53,
   "metadata": {},
   "outputs": [
    {
     "data": {
      "text/plain": [
       "0.06230453042623537"
      ]
     },
     "execution_count": 53,
     "metadata": {},
     "output_type": "execute_result"
    }
   ],
   "source": [
    "# lexical richness\n",
    "len(st3) / len(text3)"
   ]
  },
  {
   "cell_type": "code",
   "execution_count": 54,
   "metadata": {},
   "outputs": [
    {
     "data": {
      "text/plain": [
       "16.050197203298673"
      ]
     },
     "execution_count": 54,
     "metadata": {},
     "output_type": "execute_result"
    }
   ],
   "source": [
    "# average token frequency\n",
    "len(text3) / len(st3) "
   ]
  },
  {
   "cell_type": "markdown",
   "metadata": {},
   "source": [
    "Next, let's focus on particular words. We can count how often a word occurs in a text, and compute what percentage of the text is taken up by a specific word:"
   ]
  },
  {
   "cell_type": "code",
   "execution_count": 74,
   "metadata": {},
   "outputs": [
    {
     "name": "stdout",
     "output_type": "stream",
     "text": [
      "Word count in Book of Genesis:\n",
      "smote: 5.000000\n",
      "Lord: 0.000000\n",
      "God: 231.000000\n",
      "a: 342.000000\n"
     ]
    }
   ],
   "source": [
    "wordList = ['smote', 'Lord', 'God', 'a']\n",
    "print(\"Word count in Book of Genesis:\")\n",
    "for word in wordList:\n",
    "    print(\"%s: %d\" % (word, text3.count(word))) "
   ]
  },
  {
   "cell_type": "code",
   "execution_count": 76,
   "metadata": {},
   "outputs": [],
   "source": [
    "# define functions for lexical diversity\n",
    "def lexical_diversity(text):\n",
    "    return len(set(text)) / len(text)\n",
    "\n",
    "def percentage(word, text):\n",
    "    return 100 * text.count(word) / len(text)"
   ]
  },
  {
   "cell_type": "code",
   "execution_count": 77,
   "metadata": {},
   "outputs": [
    {
     "name": "stdout",
     "output_type": "stream",
     "text": [
      "Percentage of word count in Book of Genesis:\n",
      "smote: 0.011170\n",
      "Lord: 0.000000\n",
      "God: 0.516040\n",
      "a: 0.764007\n"
     ]
    }
   ],
   "source": [
    "print(\"Percentage of word count in Book of Genesis:\")\n",
    "for word in wordList:\n",
    "    print(\"%s: %f\" % (word, percentage(word,text3)))"
   ]
  },
  {
   "cell_type": "code",
   "execution_count": 80,
   "metadata": {},
   "outputs": [],
   "source": [
    "# generate dict of word counts for each word in text\n",
    "wordCount = {word:text3.count(word) for word in sorted(set(text3))}"
   ]
  },
  {
   "cell_type": "code",
   "execution_count": 82,
   "metadata": {},
   "outputs": [
    {
     "data": {
      "text/plain": [
       "2789"
      ]
     },
     "execution_count": 82,
     "metadata": {},
     "output_type": "execute_result"
    }
   ],
   "source": [
    "len(wordCount)"
   ]
  },
  {
   "cell_type": "code",
   "execution_count": 84,
   "metadata": {},
   "outputs": [],
   "source": [
    "import numpy as np\n",
    "import pandas as pd\n",
    "import matplotlib.pyplot as plt\n",
    "import seaborn as sns"
   ]
  },
  {
   "cell_type": "code",
   "execution_count": 93,
   "metadata": {},
   "outputs": [
    {
     "data": {
      "text/plain": [
       ",      3681\n",
       "and    2428\n",
       "the    2411\n",
       "of     1358\n",
       ".      1315\n",
       "And    1250\n",
       "his     651\n",
       "he      648\n",
       "to      611\n",
       ";       605\n",
       "dtype: int64"
      ]
     },
     "execution_count": 93,
     "metadata": {},
     "output_type": "execute_result"
    }
   ],
   "source": [
    "# get top 10 most common tokens in the book of genesis\n",
    "wordCount = pd.Series(wordCount)\n",
    "wordCount.sort_values(ascending=False).head(10)"
   ]
  },
  {
   "cell_type": "code",
   "execution_count": 92,
   "metadata": {},
   "outputs": [
    {
     "data": {
      "text/plain": [
       ",      3681\n",
       "and    2428\n",
       "the    2411\n",
       "of     1358\n",
       ".      1315\n",
       "dtype: int64"
      ]
     },
     "execution_count": 92,
     "metadata": {},
     "output_type": "execute_result"
    }
   ],
   "source": []
  },
  {
   "cell_type": "markdown",
   "metadata": {},
   "source": [
    "### Variables"
   ]
  },
  {
   "cell_type": "code",
   "execution_count": 95,
   "metadata": {},
   "outputs": [
    {
     "data": {
      "text/plain": [
       "260819"
      ]
     },
     "execution_count": 95,
     "metadata": {},
     "output_type": "execute_result"
    }
   ],
   "source": [
    "len(text1)"
   ]
  },
  {
   "cell_type": "code",
   "execution_count": 96,
   "metadata": {},
   "outputs": [
    {
     "data": {
      "text/plain": [
       "['[',\n",
       " 'Moby',\n",
       " 'Dick',\n",
       " 'by',\n",
       " 'Herman',\n",
       " 'Melville',\n",
       " '1851',\n",
       " ']',\n",
       " 'ETYMOLOGY',\n",
       " '.']"
      ]
     },
     "execution_count": 96,
     "metadata": {},
     "output_type": "execute_result"
    }
   ],
   "source": [
    "text1[0:10]"
   ]
  },
  {
   "cell_type": "code",
   "execution_count": 98,
   "metadata": {},
   "outputs": [
    {
     "name": "stdout",
     "output_type": "stream",
     "text": [
      "19317\n"
     ]
    }
   ],
   "source": [
    "vocab = set(text1)\n",
    "vocab_size = len(vocab)\n",
    "print(vocab_size)"
   ]
  },
  {
   "cell_type": "markdown",
   "metadata": {},
   "source": [
    "### Strings"
   ]
  },
  {
   "cell_type": "code",
   "execution_count": 101,
   "metadata": {},
   "outputs": [
    {
     "name": "stdout",
     "output_type": "stream",
     "text": [
      "Given: \n",
      "name = 'Monty'\n",
      "name[0] = M\n",
      "name[:4] = Mont\n"
     ]
    }
   ],
   "source": [
    "# example\n",
    "name = 'Monty'\n",
    "print(\"Given: \")\n",
    "print(\"name = 'Monty'\")\n",
    "print(\"name[0] = %s\" % name[0])\n",
    "print(\"name[:4] = %s\" % name[:4])"
   ]
  },
  {
   "cell_type": "code",
   "execution_count": 102,
   "metadata": {},
   "outputs": [
    {
     "data": {
      "text/plain": [
       "'Monty Python'"
      ]
     },
     "execution_count": 102,
     "metadata": {},
     "output_type": "execute_result"
    }
   ],
   "source": [
    "# join strings from list\n",
    "' '.join(['Monty', 'Python'])"
   ]
  },
  {
   "cell_type": "code",
   "execution_count": 103,
   "metadata": {},
   "outputs": [
    {
     "data": {
      "text/plain": [
       "['Monty', 'Python']"
      ]
     },
     "execution_count": 103,
     "metadata": {},
     "output_type": "execute_result"
    }
   ],
   "source": [
    "# split string into list\n",
    "'Monty Python'.split()"
   ]
  },
  {
   "cell_type": "markdown",
   "metadata": {},
   "source": [
    "## Computing with Language: Simple Statistics\n",
    "\n",
    "In this section we pick up the question of what makes a text distinct, and use automatic methods to find characteristic words and expressions of a text. "
   ]
  },
  {
   "cell_type": "code",
   "execution_count": 108,
   "metadata": {},
   "outputs": [
    {
     "name": "stdout",
     "output_type": "stream",
     "text": [
      "['After', 'all', 'and', 'done', 'is', 'more', 'said', 'than']\n",
      "['said', 'than']\n"
     ]
    }
   ],
   "source": [
    "saying = ['After', 'all', 'is', 'said', 'and',\n",
    "          'done', 'more', 'is', 'said', 'than', 'done']\n",
    "# whole thing\n",
    "print(sorted(set(saying)))\n",
    "# last 2\n",
    "print(sorted(set(saying))[-2:])"
   ]
  },
  {
   "cell_type": "markdown",
   "metadata": {},
   "source": [
    "### Frequency Distributions\n",
    "\n",
    "How can we automatically identify the words of a text that are most informative about the topic and genre of the text? Imagine how you might go about finding the 50 most frequent words of a book. One method would be to keep a tally for each vocabulary item, like that shown in 3.1. The tally would need thousands of rows, and it would be an exceedingly laborious process — so laborious that we would rather assign the task to a machine.\n",
    "\n",
    "A **frequency distribution** tells us the frequency of each vocabulary item in the text. (In general, it could count any kind of observable event.) It is a \"distribution\" because it tells us how the total number of word tokens in the text are distributed across the vocabulary items. Since we often need frequency distributions in language processing, NLTK provides built-in support for them. Let's use a  FreqDist to find the 50 most frequent words of Moby Dick:"
   ]
  },
  {
   "cell_type": "code",
   "execution_count": 112,
   "metadata": {},
   "outputs": [
    {
     "data": {
      "text/plain": [
       "[(',', 18713),\n",
       " ('the', 13721),\n",
       " ('.', 6862),\n",
       " ('of', 6536),\n",
       " ('and', 6024),\n",
       " ('a', 4569),\n",
       " ('to', 4542),\n",
       " (';', 4072),\n",
       " ('in', 3916),\n",
       " ('that', 2982)]"
      ]
     },
     "execution_count": 112,
     "metadata": {},
     "output_type": "execute_result"
    }
   ],
   "source": [
    "fdist1 = FreqDist(text1)\n",
    "fdist1.most_common(10)"
   ]
  },
  {
   "cell_type": "markdown",
   "metadata": {},
   "source": [
    "Note: I did this similar thing using a dict comprehension above. Good to know that it's built-in with nltk."
   ]
  },
  {
   "cell_type": "code",
   "execution_count": 113,
   "metadata": {},
   "outputs": [
    {
     "data": {
      "text/plain": [
       "906"
      ]
     },
     "execution_count": 113,
     "metadata": {},
     "output_type": "execute_result"
    }
   ],
   "source": [
    "fdist1['whale']"
   ]
  },
  {
   "cell_type": "markdown",
   "metadata": {},
   "source": [
    "When we first invoke FreqDist, we pass the name of the text as an argument [1]. We can inspect the total number of words (\"outcomes\") that have been counted up [2] — 260,819 in the case of Moby Dick. The expression most_common(50) gives us a list of the 50 most frequently occurring types in the text [3].\n",
    "\n",
    "Do any words produced in the last example help us grasp the topic or genre of this text? Only one word, whale, is slightly informative! It occurs over 900 times. The rest of the words tell us nothing about the text; they're just English \"plumbing.\" What proportion of the text is taken up with such words? We can generate a cumulative frequency plot for these words, using fdist1.plot(50, cumulative=True), to produce the graph in 3.2. These 50 words account for nearly half the book!"
   ]
  },
  {
   "cell_type": "code",
   "execution_count": 115,
   "metadata": {},
   "outputs": [
    {
     "data": {
      "image/png": "[encoded data removed]",
      "text/plain": [
       "<Figure size 1080x720 with 1 Axes>"
      ]
     },
     "metadata": {
      "needs_background": "light"
     },
     "output_type": "display_data"
    }
   ],
   "source": [
    "plt.figure(figsize=(15,10))\n",
    "fdist1.plot(50, cumulative=True)"
   ]
  },
  {
   "cell_type": "markdown",
   "metadata": {},
   "source": [
    "If the frequent words don't help us, how about the words that occur once only, the so-called hapaxes? View them by typing fdist1.hapaxes(). This list contains lexicographer, cetological, contraband, expostulations, and about 9,000 others. It seems that there are too many rare words, and without seeing the context we probably can't guess what half of the hapaxes mean in any case! Since neither frequent nor infrequent words help, we need to try something else."
   ]
  },
  {
   "cell_type": "code",
   "execution_count": 119,
   "metadata": {},
   "outputs": [
    {
     "data": {
      "text/plain": [
       "['Herman',\n",
       " 'Melville',\n",
       " ']',\n",
       " 'ETYMOLOGY',\n",
       " 'Late',\n",
       " 'Consumptive',\n",
       " 'School',\n",
       " 'threadbare',\n",
       " 'lexicons',\n",
       " 'mockingly']"
      ]
     },
     "execution_count": 119,
     "metadata": {},
     "output_type": "execute_result"
    }
   ],
   "source": [
    "# get first 10 hapaxes\n",
    "fdist1.hapaxes()[:10]"
   ]
  },
  {
   "cell_type": "markdown",
   "metadata": {},
   "source": [
    "### Fine-grained Selection of Words\n",
    "\n",
    "Next, let's look at the long words of a text; perhaps these will be more characteristic and informative. For this we adapt some notation from set theory. We would like to find the words from the vocabulary of the text that are more than 15 characters long. Let's call this property P, so that P(w) is true if and only if w is more than 15 characters long. Now we can express the words of interest using mathematical set notation as shown in (1a). This means \"the set of all w such that w is an element of V (the vocabulary) and w has property P\"."
   ]
  },
  {
   "cell_type": "code",
   "execution_count": 121,
   "metadata": {},
   "outputs": [
    {
     "data": {
      "text/plain": [
       "['a',\n",
       " 'aback',\n",
       " 'abaft',\n",
       " 'abandon',\n",
       " 'abandoned',\n",
       " 'abandonedly',\n",
       " 'abandonment',\n",
       " 'abased',\n",
       " 'abasement',\n",
       " 'abashed',\n",
       " 'abate',\n",
       " 'abated',\n",
       " 'abatement',\n",
       " 'abating',\n",
       " 'abbreviate',\n",
       " 'abbreviation',\n",
       " 'abeam',\n",
       " 'abed',\n",
       " 'abhorred',\n",
       " 'abhorrence',\n",
       " 'abhorrent',\n",
       " 'abhorring',\n",
       " 'abide',\n",
       " 'abided',\n",
       " 'abiding',\n",
       " 'ability',\n",
       " 'abjectly',\n",
       " 'able',\n",
       " 'ablutions',\n",
       " 'aboard',\n",
       " 'abode',\n",
       " 'abominable',\n",
       " 'abominate',\n",
       " 'abominated',\n",
       " 'abomination',\n",
       " 'aboriginal',\n",
       " 'aboriginally',\n",
       " 'aboriginalness',\n",
       " 'abortion',\n",
       " 'abortions',\n",
       " 'abound',\n",
       " 'abounded',\n",
       " 'abounding',\n",
       " 'aboundingly',\n",
       " 'about',\n",
       " 'above',\n",
       " 'abreast',\n",
       " 'abridged',\n",
       " 'abroad',\n",
       " 'abruptly',\n",
       " 'absence',\n",
       " 'absent',\n",
       " 'absolute',\n",
       " 'absolutely',\n",
       " 'absorbed',\n",
       " 'absorbing',\n",
       " 'absorbingly',\n",
       " 'abstained',\n",
       " 'abstemious',\n",
       " 'abstinence',\n",
       " 'abstract',\n",
       " 'abstracted',\n",
       " 'abstraction',\n",
       " 'absurd',\n",
       " 'absurdly',\n",
       " 'abundance',\n",
       " 'abundant',\n",
       " 'abundantly',\n",
       " 'accelerate',\n",
       " 'accelerated',\n",
       " 'accelerating',\n",
       " 'accept',\n",
       " 'accessible',\n",
       " 'accessory',\n",
       " 'accident',\n",
       " 'accidental',\n",
       " 'accidentally',\n",
       " 'accidents',\n",
       " 'accommodate',\n",
       " 'accommodated',\n",
       " 'accommodation',\n",
       " 'accompanied',\n",
       " 'accompanies',\n",
       " 'accompaniments',\n",
       " 'accompany',\n",
       " 'accompanying',\n",
       " 'accomplish',\n",
       " 'accomplished',\n",
       " 'accomplishing',\n",
       " 'accomplishment',\n",
       " 'accordance',\n",
       " 'according',\n",
       " 'accordingly',\n",
       " 'accosted',\n",
       " 'account',\n",
       " 'accountable',\n",
       " 'accountants',\n",
       " 'accounted',\n",
       " 'accounting',\n",
       " 'accounts',\n",
       " 'accumulate',\n",
       " 'accumulated',\n",
       " 'accumulating',\n",
       " 'accuracy',\n",
       " 'accurate',\n",
       " 'accurately',\n",
       " 'accursed',\n",
       " 'accustomed',\n",
       " 'acerbities',\n",
       " 'ache',\n",
       " 'ached',\n",
       " 'achieve',\n",
       " 'achieved',\n",
       " 'acknowledges',\n",
       " 'acknowledging',\n",
       " 'acquaintance',\n",
       " 'acquaintances',\n",
       " 'acquainted',\n",
       " 'acquiesce',\n",
       " 'acquiesced',\n",
       " 'acquiescence',\n",
       " 'acquired',\n",
       " 'acre',\n",
       " 'acres',\n",
       " 'acridness',\n",
       " 'across',\n",
       " 'act',\n",
       " 'acted',\n",
       " 'actest',\n",
       " 'action',\n",
       " 'actions',\n",
       " 'active',\n",
       " 'actively',\n",
       " 'activity',\n",
       " 'acts',\n",
       " 'actual',\n",
       " 'actually',\n",
       " 'actuated',\n",
       " 'acute',\n",
       " 'acuteness',\n",
       " 'adamite',\n",
       " 'adapted',\n",
       " 'add',\n",
       " 'added',\n",
       " 'adding',\n",
       " 'addition',\n",
       " 'additional',\n",
       " 'address',\n",
       " 'addressed',\n",
       " 'addressing',\n",
       " 'adds',\n",
       " 'adequate',\n",
       " 'adequately',\n",
       " 'adhering',\n",
       " 'adhesiveness',\n",
       " 'adieu',\n",
       " 'adieux',\n",
       " 'adjacent',\n",
       " 'adjoining',\n",
       " 'adjust',\n",
       " 'adjusting',\n",
       " 'admeasurement',\n",
       " 'admeasurements',\n",
       " 'administered',\n",
       " 'administering',\n",
       " 'admirable',\n",
       " 'admirably',\n",
       " 'admiral',\n",
       " 'admirals',\n",
       " 'admire',\n",
       " 'admirer',\n",
       " 'admirers',\n",
       " 'admit',\n",
       " 'admits',\n",
       " 'admitted',\n",
       " 'admitting',\n",
       " 'admonish',\n",
       " 'admonished',\n",
       " 'admonishing',\n",
       " 'admonitions',\n",
       " 'admonitory',\n",
       " 'ado',\n",
       " 'adolescence',\n",
       " 'adopt',\n",
       " 'adopted',\n",
       " 'adopting',\n",
       " 'adoption',\n",
       " 'adoration',\n",
       " 'adoring',\n",
       " 'adorned',\n",
       " 'adorning',\n",
       " 'adornment',\n",
       " 'adown',\n",
       " 'adrift',\n",
       " 'adroit',\n",
       " 'adroitly',\n",
       " 'adroop',\n",
       " 'adult',\n",
       " 'adulterer',\n",
       " 'advance',\n",
       " 'advanced',\n",
       " 'advances',\n",
       " 'advancing',\n",
       " 'advantage',\n",
       " 'advantages',\n",
       " 'advent',\n",
       " 'adventure',\n",
       " 'adventures',\n",
       " 'adventurous',\n",
       " 'adventurously',\n",
       " 'advert',\n",
       " 'advertised',\n",
       " 'advice',\n",
       " 'advised',\n",
       " 'advocate',\n",
       " 'aerated',\n",
       " 'aesthetically',\n",
       " 'aesthetics',\n",
       " 'afar',\n",
       " 'affair',\n",
       " 'affairs',\n",
       " 'affect',\n",
       " 'affected',\n",
       " 'affecting',\n",
       " 'affection',\n",
       " 'affectionate',\n",
       " 'affectionately',\n",
       " 'affidavit',\n",
       " 'affinities',\n",
       " 'affirm',\n",
       " 'affirmative',\n",
       " 'affirms',\n",
       " 'affixed',\n",
       " 'afflicted',\n",
       " 'afflictions',\n",
       " 'affluent',\n",
       " 'afford',\n",
       " 'afforded',\n",
       " 'affording',\n",
       " 'affords',\n",
       " 'affright',\n",
       " 'affrighted',\n",
       " 'affrights',\n",
       " 'affronted',\n",
       " 'afire',\n",
       " 'afloat',\n",
       " 'afoam',\n",
       " 'afore',\n",
       " 'aforesaid',\n",
       " 'aforethought',\n",
       " 'afoul',\n",
       " 'afraid',\n",
       " 'afresh',\n",
       " 'aft',\n",
       " 'after',\n",
       " 'afternoon',\n",
       " 'afternoons',\n",
       " 'afterwards',\n",
       " 'again',\n",
       " 'againe',\n",
       " 'against',\n",
       " 'age',\n",
       " 'aged',\n",
       " 'agencies',\n",
       " 'agency',\n",
       " 'agent',\n",
       " 'agents',\n",
       " 'ages',\n",
       " 'aggravate',\n",
       " 'aggregate',\n",
       " 'aggregated',\n",
       " 'aggregation',\n",
       " 'aggregations',\n",
       " 'aggrieved',\n",
       " 'aghast',\n",
       " 'agile',\n",
       " 'agitated',\n",
       " 'aglow',\n",
       " 'ago',\n",
       " 'agonies',\n",
       " 'agonized',\n",
       " 'agonizing',\n",
       " 'agonizingly',\n",
       " 'agony',\n",
       " 'agrarian',\n",
       " 'agree',\n",
       " 'agreeable',\n",
       " 'agreed',\n",
       " 'agrees',\n",
       " 'aground',\n",
       " 'ague',\n",
       " 'ah',\n",
       " 'ahead',\n",
       " 'ahoy',\n",
       " 'aid',\n",
       " 'aides',\n",
       " 'ails',\n",
       " 'aim',\n",
       " 'aimed',\n",
       " 'aimlessly',\n",
       " 'ain',\n",
       " 'aint',\n",
       " 'air',\n",
       " 'airley',\n",
       " 'airth',\n",
       " 'aisle',\n",
       " 'ajar',\n",
       " 'akin',\n",
       " 'alarm',\n",
       " 'alarmed',\n",
       " 'alarms',\n",
       " 'alas',\n",
       " 'alb',\n",
       " 'albatross',\n",
       " 'albatrosses',\n",
       " 'alcoves',\n",
       " 'aldermen',\n",
       " 'ale',\n",
       " 'aleak',\n",
       " 'alert',\n",
       " 'alewives',\n",
       " 'alien',\n",
       " 'aliens',\n",
       " 'alights',\n",
       " 'alike',\n",
       " 'aliment',\n",
       " 'alive',\n",
       " 'all',\n",
       " 'allay',\n",
       " 'allaying',\n",
       " 'alleged',\n",
       " 'allegiance',\n",
       " 'allegorical',\n",
       " 'allegory',\n",
       " 'alleys',\n",
       " 'allies',\n",
       " 'allotted',\n",
       " 'allow',\n",
       " 'allowance',\n",
       " 'allowances',\n",
       " 'allowed',\n",
       " 'allowing',\n",
       " 'allude',\n",
       " 'alluded',\n",
       " 'alluding',\n",
       " 'allured',\n",
       " 'allurements',\n",
       " 'allures',\n",
       " 'alluring',\n",
       " 'alluringly',\n",
       " 'allurings',\n",
       " 'allusion',\n",
       " 'allusions',\n",
       " 'almanac',\n",
       " 'almighty',\n",
       " 'almost',\n",
       " 'alms',\n",
       " 'aloft',\n",
       " 'alone',\n",
       " 'along',\n",
       " 'alongside',\n",
       " 'aloof',\n",
       " 'aloud',\n",
       " 'alow',\n",
       " 'alpacas',\n",
       " 'alpine',\n",
       " 'already',\n",
       " 'also',\n",
       " 'altar',\n",
       " 'alter',\n",
       " 'altered',\n",
       " 'altering',\n",
       " 'alternate',\n",
       " 'alternately',\n",
       " 'alternating',\n",
       " 'although',\n",
       " 'altitude',\n",
       " 'altitudes',\n",
       " 'altogether',\n",
       " 'always',\n",
       " 'am',\n",
       " 'amain',\n",
       " 'amaze',\n",
       " 'amazement',\n",
       " 'amazing',\n",
       " 'amazingly',\n",
       " 'amber',\n",
       " 'ambergris',\n",
       " 'ambiguous',\n",
       " 'ambition',\n",
       " 'ambitious',\n",
       " 'amen',\n",
       " 'amend',\n",
       " 'amid',\n",
       " 'amidst',\n",
       " 'among',\n",
       " 'amongst',\n",
       " 'amorous',\n",
       " 'amount',\n",
       " 'amounted',\n",
       " 'amounts',\n",
       " 'amours',\n",
       " 'amphibious',\n",
       " 'amphitheatrical',\n",
       " 'ample',\n",
       " 'amplified',\n",
       " 'amplify',\n",
       " 'amputate',\n",
       " 'amputated',\n",
       " 'amputating',\n",
       " 'amputation',\n",
       " 'amputations',\n",
       " 'amuck',\n",
       " 'amusing',\n",
       " 'an',\n",
       " 'anaconda',\n",
       " 'anacondas',\n",
       " 'analogical',\n",
       " 'analogies',\n",
       " 'analogous',\n",
       " 'analogy',\n",
       " 'analyse',\n",
       " 'analysed',\n",
       " 'analysis',\n",
       " 'analytic',\n",
       " 'anathemas',\n",
       " 'anatomical',\n",
       " 'anatomy',\n",
       " 'ancestors',\n",
       " 'ancestress',\n",
       " 'ancestry',\n",
       " 'anchor',\n",
       " 'anchored',\n",
       " 'anchors',\n",
       " 'ancient',\n",
       " 'ancientest',\n",
       " 'and',\n",
       " 'andirons',\n",
       " 'anew',\n",
       " 'angel',\n",
       " 'angels',\n",
       " 'anger',\n",
       " 'angle',\n",
       " 'angles',\n",
       " 'angrily',\n",
       " 'angry',\n",
       " 'anguish',\n",
       " 'angular',\n",
       " 'angularly',\n",
       " 'animal',\n",
       " 'animals',\n",
       " 'animate',\n",
       " 'animated',\n",
       " 'animating',\n",
       " 'animation',\n",
       " 'animosity',\n",
       " 'ankers',\n",
       " 'ankles',\n",
       " 'annals',\n",
       " 'annihilated',\n",
       " 'annihilating',\n",
       " 'annihilation',\n",
       " 'announced',\n",
       " 'announcement',\n",
       " 'announces',\n",
       " 'announcing',\n",
       " 'annual',\n",
       " 'annually',\n",
       " 'annuitants',\n",
       " 'anoint',\n",
       " 'anointed',\n",
       " 'anointing',\n",
       " 'anoints',\n",
       " 'anomalous',\n",
       " 'anomalously',\n",
       " 'anomaly',\n",
       " 'anon',\n",
       " 'anonymous',\n",
       " 'another',\n",
       " 'answer',\n",
       " 'answered',\n",
       " 'answers',\n",
       " 'ant',\n",
       " 'antagonistic',\n",
       " 'antecedent',\n",
       " 'antediluvian',\n",
       " 'antelope',\n",
       " 'antemosaic',\n",
       " 'anti',\n",
       " 'antichronical',\n",
       " 'anticipated',\n",
       " 'anticipatingly',\n",
       " 'anticipation',\n",
       " 'anticipative',\n",
       " 'antics',\n",
       " 'antidote',\n",
       " 'antique',\n",
       " 'antiquities',\n",
       " 'antiquity',\n",
       " 'antlered',\n",
       " 'antlers',\n",
       " 'ants',\n",
       " 'anus',\n",
       " 'anvil',\n",
       " 'anxieties',\n",
       " 'anxiety',\n",
       " 'anxious',\n",
       " 'any',\n",
       " 'anybody',\n",
       " 'anyhow',\n",
       " 'anyone',\n",
       " 'anything',\n",
       " 'anyways',\n",
       " 'anywhere',\n",
       " 'aorta',\n",
       " 'apart',\n",
       " 'apartment',\n",
       " 'ape',\n",
       " 'apeak',\n",
       " 'apertures',\n",
       " 'apex',\n",
       " 'apoplectic',\n",
       " 'apoplexy',\n",
       " 'apostolic',\n",
       " 'apothecary',\n",
       " 'apotheosis',\n",
       " 'appal',\n",
       " 'appalled',\n",
       " 'appalling',\n",
       " 'appallingly',\n",
       " 'appals',\n",
       " 'apparatus',\n",
       " 'apparel',\n",
       " 'apparelled',\n",
       " 'apparent',\n",
       " 'apparently',\n",
       " 'apparition',\n",
       " 'appeal',\n",
       " 'appeals',\n",
       " 'appear',\n",
       " 'appearance',\n",
       " 'appearances',\n",
       " 'appeared',\n",
       " 'appearing',\n",
       " 'appears',\n",
       " 'appellation',\n",
       " 'appellations',\n",
       " 'appellative',\n",
       " 'append',\n",
       " 'appendage',\n",
       " 'appetite',\n",
       " 'appetites',\n",
       " 'apple',\n",
       " 'appliance',\n",
       " 'applicable',\n",
       " 'application',\n",
       " 'applied',\n",
       " 'applies',\n",
       " 'apply',\n",
       " 'applying',\n",
       " 'appoint',\n",
       " 'appointed',\n",
       " 'appointments',\n",
       " 'apportioned',\n",
       " 'appreciative',\n",
       " 'apprehension',\n",
       " 'apprehensions',\n",
       " 'apprehensiveness',\n",
       " 'apprise',\n",
       " 'apprised',\n",
       " 'approach',\n",
       " 'approached',\n",
       " 'approaches',\n",
       " 'approaching',\n",
       " 'appropriate',\n",
       " 'appropriated',\n",
       " 'approval',\n",
       " 'approve',\n",
       " 'approved',\n",
       " 'approving',\n",
       " 'approvingly',\n",
       " 'approximate',\n",
       " 'apricot',\n",
       " 'apron',\n",
       " 'apt',\n",
       " 'aptitude',\n",
       " 'aptitudes',\n",
       " 'arbitrary',\n",
       " 'arboring',\n",
       " 'arbours',\n",
       " 'arc',\n",
       " 'arch',\n",
       " 'archaeological',\n",
       " 'archaeologists',\n",
       " 'archangel',\n",
       " 'archangelic',\n",
       " 'archangelical',\n",
       " 'archangels',\n",
       " 'archbishopric',\n",
       " 'arched',\n",
       " 'arches',\n",
       " 'archiepiscopacy',\n",
       " 'arching',\n",
       " 'archipelagoes',\n",
       " 'architect',\n",
       " 'architects',\n",
       " 'architecture',\n",
       " 'arctic',\n",
       " 'ardour',\n",
       " 'are',\n",
       " 'area',\n",
       " 'argosy',\n",
       " 'argue',\n",
       " 'argued',\n",
       " 'arguing',\n",
       " 'argument',\n",
       " 'arguments',\n",
       " 'arid',\n",
       " 'aright',\n",
       " 'arise',\n",
       " 'arisen',\n",
       " 'arises',\n",
       " 'arising',\n",
       " 'arithmetic',\n",
       " 'ark',\n",
       " 'arm',\n",
       " 'armed',\n",
       " 'armies',\n",
       " 'armor',\n",
       " 'arms',\n",
       " 'army',\n",
       " 'aroma',\n",
       " 'aromas',\n",
       " 'aromatic',\n",
       " 'arose',\n",
       " 'around',\n",
       " 'arpens',\n",
       " 'arrah',\n",
       " 'arrange',\n",
       " 'arranged',\n",
       " 'arrangement',\n",
       " 'arranging',\n",
       " 'arrant',\n",
       " 'arrantest',\n",
       " 'array',\n",
       " 'arrayed',\n",
       " 'arrested',\n",
       " 'arrival',\n",
       " 'arrive',\n",
       " 'arrived',\n",
       " 'arrives',\n",
       " 'arriving',\n",
       " 'arrogance',\n",
       " 'arrow',\n",
       " 'arrows',\n",
       " 'arrowy',\n",
       " 'art',\n",
       " 'arterial',\n",
       " 'artful',\n",
       " 'article',\n",
       " 'articles',\n",
       " 'articulated',\n",
       " 'artificial',\n",
       " 'artificially',\n",
       " 'artificialness',\n",
       " 'artisan',\n",
       " 'artist',\n",
       " 'artistic',\n",
       " 'artists',\n",
       " 'arts',\n",
       " 'as',\n",
       " 'ascend',\n",
       " 'ascended',\n",
       " 'ascendency',\n",
       " 'ascending',\n",
       " 'ascertained',\n",
       " 'ascertaining',\n",
       " 'ascribable',\n",
       " 'ascribe',\n",
       " 'ascribed',\n",
       " 'ascriptions',\n",
       " 'ash',\n",
       " 'ashes',\n",
       " 'ashore',\n",
       " 'aside',\n",
       " 'ask',\n",
       " 'askance',\n",
       " 'asked',\n",
       " 'aslant',\n",
       " 'asleep',\n",
       " 'aslope',\n",
       " 'aspect',\n",
       " 'aspects',\n",
       " 'aspersion',\n",
       " 'asphaltic',\n",
       " 'aspirations',\n",
       " 'aspiring',\n",
       " 'ass',\n",
       " 'assail',\n",
       " 'assailable',\n",
       " 'assailant',\n",
       " 'assailants',\n",
       " 'assailed',\n",
       " 'assailing',\n",
       " 'assails',\n",
       " 'assassins',\n",
       " 'assault',\n",
       " 'assaults',\n",
       " 'assembled',\n",
       " 'assembly',\n",
       " 'assented',\n",
       " 'assert',\n",
       " 'asserted',\n",
       " 'assertion',\n",
       " 'asses',\n",
       " 'assigned',\n",
       " 'assignment',\n",
       " 'assigns',\n",
       " 'assist',\n",
       " 'assistance',\n",
       " 'assistants',\n",
       " 'assisted',\n",
       " 'assisting',\n",
       " 'associated',\n",
       " 'associates',\n",
       " 'associations',\n",
       " 'assuaging',\n",
       " 'assume',\n",
       " 'assumed',\n",
       " 'assumes',\n",
       " 'assuming',\n",
       " 'assumption',\n",
       " 'assurance',\n",
       " 'assure',\n",
       " 'assured',\n",
       " 'assures',\n",
       " 'assuring',\n",
       " 'astern',\n",
       " 'astir',\n",
       " 'astonished',\n",
       " 'astonishing',\n",
       " 'astonishment',\n",
       " 'astral',\n",
       " 'astrological',\n",
       " 'astronomers',\n",
       " 'astronomical',\n",
       " 'asunder',\n",
       " 'asylum',\n",
       " 'at',\n",
       " 'ate',\n",
       " 'atheism',\n",
       " 'atheistical',\n",
       " 'athirst',\n",
       " 'athletic',\n",
       " 'athwartships',\n",
       " 'atmosphere',\n",
       " 'atmospheres',\n",
       " 'atmospheric',\n",
       " 'atom',\n",
       " 'atrocious',\n",
       " 'attached',\n",
       " 'attaching',\n",
       " 'attack',\n",
       " 'attacked',\n",
       " 'attacking',\n",
       " 'attacks',\n",
       " 'attain',\n",
       " 'attainable',\n",
       " 'attained',\n",
       " 'attaining',\n",
       " 'attains',\n",
       " 'attar',\n",
       " 'attempt',\n",
       " 'attempts',\n",
       " 'attend',\n",
       " 'attendance',\n",
       " 'attendant',\n",
       " 'attended',\n",
       " 'attending',\n",
       " 'attends',\n",
       " 'attention',\n",
       " 'attentive',\n",
       " 'attentively',\n",
       " 'attenuated',\n",
       " 'attest',\n",
       " 'attestation',\n",
       " 'attested',\n",
       " 'attic',\n",
       " 'attitude',\n",
       " 'attitudes',\n",
       " 'attract',\n",
       " 'attracted',\n",
       " 'attraction',\n",
       " 'attribute',\n",
       " 'attuned',\n",
       " 'auction',\n",
       " 'audacious',\n",
       " 'audacity',\n",
       " 'audible',\n",
       " 'auger',\n",
       " 'aught',\n",
       " 'augment',\n",
       " 'augmented',\n",
       " 'august',\n",
       " 'aunts',\n",
       " 'auspices',\n",
       " 'austere',\n",
       " 'authentic',\n",
       " 'authenticated',\n",
       " 'author',\n",
       " 'authoritative',\n",
       " 'authoritatively',\n",
       " 'authorities',\n",
       " 'authority',\n",
       " 'authorized',\n",
       " 'authors',\n",
       " 'automaton',\n",
       " 'autumn',\n",
       " 'autumnal',\n",
       " 'auxiliary',\n",
       " 'avail',\n",
       " 'available',\n",
       " 'availle',\n",
       " 'avast',\n",
       " 'avenger',\n",
       " 'avenues',\n",
       " 'average',\n",
       " 'averages',\n",
       " 'averred',\n",
       " 'avers',\n",
       " 'averse',\n",
       " 'averted',\n",
       " 'avocation',\n",
       " 'avoid',\n",
       " 'await',\n",
       " 'awaited',\n",
       " 'awaiting',\n",
       " 'awake',\n",
       " 'awaken',\n",
       " 'awakened',\n",
       " 'awarded',\n",
       " 'aware',\n",
       " 'away',\n",
       " 'awe',\n",
       " 'awed',\n",
       " 'awestruck',\n",
       " 'awful',\n",
       " 'awfulness',\n",
       " 'awhile',\n",
       " 'awkwardness',\n",
       " 'awls',\n",
       " 'awoke',\n",
       " 'awry',\n",
       " 'axe',\n",
       " 'axis',\n",
       " 'axles',\n",
       " 'ay',\n",
       " 'aye',\n",
       " 'azimuth',\n",
       " 'azure']"
      ]
     },
     "execution_count": 121,
     "metadata": {},
     "output_type": "execute_result"
    }
   ],
   "source": [
    "long_words = [w for w in set(text1) if w.startswith('a')]\n",
    "sorted(long_words)"
   ]
  },
  {
   "cell_type": "markdown",
   "metadata": {},
   "source": [
    "For each word w in the vocabulary V, we check whether len(w) is greater than 15; all other words will be ignored. We will discuss this syntax more carefully later."
   ]
  },
  {
   "cell_type": "code",
   "execution_count": 130,
   "metadata": {},
   "outputs": [],
   "source": [
    "alphabet = list('abcdefghijklmnopqrstuzwxyz')"
   ]
  },
  {
   "cell_type": "code",
   "execution_count": 136,
   "metadata": {},
   "outputs": [],
   "source": [
    "# generate dict of alphabet and # of words in the text beginning with each letter \n",
    "wordCount = {letter:len([w for w in set(text1) if w.startswith(letter)]) for letter in alphabet}"
   ]
  },
  {
   "cell_type": "code",
   "execution_count": 137,
   "metadata": {},
   "outputs": [
    {
     "data": {
      "text/plain": [
       "{'a': 860,\n",
       " 'b': 927,\n",
       " 'c': 1463,\n",
       " 'd': 903,\n",
       " 'e': 644,\n",
       " 'f': 757,\n",
       " 'g': 469,\n",
       " 'h': 603,\n",
       " 'i': 698,\n",
       " 'j': 133,\n",
       " 'k': 100,\n",
       " 'l': 521,\n",
       " 'm': 726,\n",
       " 'n': 225,\n",
       " 'o': 360,\n",
       " 'p': 1187,\n",
       " 'q': 73,\n",
       " 'r': 791,\n",
       " 's': 1959,\n",
       " 't': 787,\n",
       " 'u': 504,\n",
       " 'z': 10,\n",
       " 'w': 557,\n",
       " 'x': 0,\n",
       " 'y': 49}"
      ]
     },
     "execution_count": 137,
     "metadata": {},
     "output_type": "execute_result"
    }
   ],
   "source": [
    "# number of words in Moby Dick starting with each letter of the alphabet: "
   ]
  },
  {
   "cell_type": "markdown",
   "metadata": {},
   "source": [
    "Let's return to our task of finding words that characterize a text. Notice that the long words in text4 reflect its national focus — constitutionally, transcontinental — whereas those in text5 reflect its informal content: boooooooooooglyyyyyy and yuuuuuuuuuuuummmmmmmmmmmm. \n",
    "\n",
    "Have we succeeded in automatically extracting words that typify a text? Well, these very long words are often hapaxes (i.e., unique) and perhaps it would be better to find frequently occurring long words. \n",
    "\n",
    "This seems promising since it eliminates frequent short words (e.g., the) and infrequent long words (e.g. antiphilosophists). \n",
    "\n",
    "Here are all words from the chat corpus that are longer than seven characters, that occur more than seven times:"
   ]
  },
  {
   "cell_type": "code",
   "execution_count": 138,
   "metadata": {},
   "outputs": [
    {
     "data": {
      "text/plain": [
       "['#14-19teens',\n",
       " '#talkcity_adults',\n",
       " '((((((((((',\n",
       " '........',\n",
       " 'Question',\n",
       " 'actually',\n",
       " 'anything',\n",
       " 'computer',\n",
       " 'cute.-ass',\n",
       " 'everyone',\n",
       " 'football',\n",
       " 'innocent',\n",
       " 'listening',\n",
       " 'remember',\n",
       " 'seriously',\n",
       " 'something',\n",
       " 'together',\n",
       " 'tomorrow',\n",
       " 'watching']"
      ]
     },
     "execution_count": 138,
     "metadata": {},
     "output_type": "execute_result"
    }
   ],
   "source": [
    "fdist5 = FreqDist(text5)\n",
    "sorted(w for w in set(text5) if len(w) > 7 and fdist5[w] > 7)"
   ]
  },
  {
   "cell_type": "code",
   "execution_count": null,
   "metadata": {},
   "outputs": [],
   "source": []
  }
 ],
 "metadata": {
  "kernelspec": {
   "display_name": "Python 3",
   "language": "python",
   "name": "python3"
  },
  "language_info": {
   "codemirror_mode": {
    "name": "ipython",
    "version": 3
   },
   "file_extension": ".py",
   "mimetype": "text/x-python",
   "name": "python",
   "nbconvert_exporter": "python",
   "pygments_lexer": "ipython3",
   "version": "3.7.3"
  },
  "toc": {
   "base_numbering": 1,
   "nav_menu": {},
   "number_sections": true,
   "sideBar": true,
   "skip_h1_title": true,
   "title_cell": "Table of Contents",
   "title_sidebar": "Contents",
   "toc_cell": false,
   "toc_position": {},
   "toc_section_display": true,
   "toc_window_display": true
  },
  "varInspector": {
   "cols": {
    "lenName": 16,
    "lenType": 16,
    "lenVar": 40
   },
   "kernels_config": {
    "python": {
     "delete_cmd_postfix": "",
     "delete_cmd_prefix": "del ",
     "library": "var_list.py",
     "varRefreshCmd": "print(var_dic_list())"
    },
    "r": {
     "delete_cmd_postfix": ") ",
     "delete_cmd_prefix": "rm(",
     "library": "var_list.r",
     "varRefreshCmd": "cat(var_dic_list()) "
    }
   },
   "types_to_exclude": [
    "module",
    "function",
    "builtin_function_or_method",
    "instance",
    "_Feature"
   ],
   "window_display": false
  }
 },
 "nbformat": 4,
 "nbformat_minor": 2
}
